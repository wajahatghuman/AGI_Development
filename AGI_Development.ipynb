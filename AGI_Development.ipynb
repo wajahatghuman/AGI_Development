{
 "cells": [
  {
   "cell_type": "markdown",
   "id": "f8f84868-7db0-478d-a884-c5e48fe19a12",
   "metadata": {},
   "source": [
    "# AGI Development Code Ver 1"
   ]
  },
  {
   "cell_type": "markdown",
   "id": "abf43ded-0764-4a66-89fa-27b3d0d18f83",
   "metadata": {},
   "source": [
    "Ist real step toward AGI, purpose of this exercise is to create a POC working model of multi dimentional tokenisation UST its mechanics which will include \n",
    "1. Basic transformation to sounds phonics\n",
    "2. conversion to vectors\n",
    "3. joining to create 3D vectors into basic shapes like protein molecules\n",
    "4. create nodes that associate relative information attached with words\n",
    "5. mood dimentions\n",
    "6. processing that to basic synthetic symbols\n",
    "7. send querry\n",
    "8. retreive information\n",
    "9. process in a separate dimentional areas for dimention based resolved solution\n",
    "10. combine all solutions through RAG and GAN analysis\n",
    "11. get a new idea and go through this process again"
   ]
  },
  {
   "cell_type": "markdown",
   "id": "aba2575f-3d35-42c9-a7c2-561959648640",
   "metadata": {},
   "source": [
    "## libraries "
   ]
  },
  {
   "cell_type": "code",
   "execution_count": null,
   "id": "ddabd01f-4fe0-4406-b067-1e076ac9bb8e",
   "metadata": {},
   "outputs": [],
   "source": []
  }
 ],
 "metadata": {
  "kernelspec": {
   "display_name": "Python 3 (ipykernel)",
   "language": "python",
   "name": "python3"
  },
  "language_info": {
   "codemirror_mode": {
    "name": "ipython",
    "version": 3
   },
   "file_extension": ".py",
   "mimetype": "text/x-python",
   "name": "python",
   "nbconvert_exporter": "python",
   "pygments_lexer": "ipython3",
   "version": "3.11.11"
  }
 },
 "nbformat": 4,
 "nbformat_minor": 5
}
